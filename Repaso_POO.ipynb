{
 "cells": [
  {
   "cell_type": "markdown",
   "metadata": {},
   "source": [
    "## Programación Orientada a Objetos (POO) en Python\n",
    "\n",
    "Dado el dinamismo de las variables en Python, toda estructura es un objeto en sí, al cambiar el tipo de **dato** en realidad estamos jugando con las **propiedades** de ese objeto"
   ]
  },
  {
   "cell_type": "markdown",
   "metadata": {},
   "source": [
    "Una clase es una especie de *plantilla* o colección de funciones llamadas *atributos*. Estos *atributos* modifican las variables de entrada a la clase de diferente manera.\n",
    "Un *objeto* es una variable producto de llamar a una *clase* con ciertos atributos o instancias.\n",
    "A continuación se presenta un ejemplo. Al llamar al objeto creado se dice que estamos *instanciando* la clase."
   ]
  },
  {
   "cell_type": "code",
   "execution_count": 1,
   "metadata": {},
   "outputs": [],
   "source": [
    "class Automovil: #Toda clase se define con la palabra \"class\", después va el nombre de la clase\n",
    "    #Mediante 3 comillas podemos incluir un comentario largo, que detalle la información\n",
    "    \"\"\"\n",
    "    Clase que define el estado y comportamiento de \n",
    "    un automóvil\n",
    "    \"\"\"\n",
    "    ruedas = 4 # Atributo de instancia\n",
    "\n",
    "    def __init__(self,color, aceleracion): #Constructor de clase __init__\n",
    "        self.color = color # Atributos de clase, se construyen mediante la variable \"self\"\n",
    "        self.aceleracion = aceleracion\n",
    "        self.velocidad = 0\n",
    "    def acelera(self): # Métodos o atributos de la clase\n",
    "        self.velocidad = self.velocidad + self.aceleracion #Si el carro acelera se suma\n",
    "    def frena(self):\n",
    "        v = self.velocidad - self.aceleracion #Si el carro frena se resta\n",
    "        if v < 0:\n",
    "            v = 0 #No existen en la realidad velocidades negativas, se establece como cero\n",
    "        self.velocidad = v"
   ]
  },
  {
   "cell_type": "markdown",
   "metadata": {},
   "source": [
    "A continuación vamos a crear un objeto de la clase anterior, por medio de *instanciarla*"
   ]
  },
  {
   "cell_type": "code",
   "execution_count": 2,
   "metadata": {},
   "outputs": [
    {
     "name": "stdout",
     "output_type": "stream",
     "text": [
      "rojo\n",
      "4\n",
      "0\n",
      "20\n",
      "azul\n",
      "4\n",
      "30\n"
     ]
    }
   ],
   "source": [
    "# Creando un objeto auto con atributos color=rojo, aceleracion=20\n",
    "c1 = Automovil('rojo', 20)\n",
    "print(c1.color)  #imprime el color del objeto\n",
    "print(c1.ruedas) # Ruedas es un atributo de instancia (4), no es modificable desde la instancia\n",
    "print(c1.velocidad) #imprime la velocidad\n",
    "c1.acelera() # Llama al atributo \"acelera\"\n",
    "print(c1.velocidad) #imprime la nueva velocidad después de acelerar\n",
    "c2 = Automovil('azul',30) #crea otro objeto de esta misma clase\n",
    "print(c2.color) \n",
    "print(c2.ruedas)\n",
    "c2.acelera()\n",
    "#c2.frena()\n",
    "print(c2.velocidad)"
   ]
  },
  {
   "cell_type": "markdown",
   "metadata": {},
   "source": [
    "Una clase puede ceder algunos de sus atributos a otra nueva clase. A este proceso se conoce como *herencia*"
   ]
  },
  {
   "cell_type": "code",
   "execution_count": 3,
   "metadata": {},
   "outputs": [],
   "source": [
    "## Clase que hereda los atributos de automovil\n",
    "class AutoVolador(Automovil): #La clase recibe como argumento un objeto de la clase Automovil\n",
    "    ruedas = 6 # Cambio en el atributo de instancia\n",
    "    def __init__(self, color, aceleracion, esta_volando=False):\n",
    "        super().__init__(color, aceleracion) #Por medio del atributo \"super\" se hereda el color y aceleración de la clase\n",
    "        self.esta_volando = esta_volando # Variable de instancia lógica\n",
    "    def vuela(self): #Nuevo atributo\n",
    "        self.esta_volando = True\n",
    "    def atteriza(self): #Nuevo atributo\n",
    "        self.esta_volando = False"
   ]
  },
  {
   "cell_type": "code",
   "execution_count": 6,
   "metadata": {},
   "outputs": [
    {
     "name": "stdout",
     "output_type": "stream",
     "text": [
      "True\n",
      "False\n"
     ]
    }
   ],
   "source": [
    "c3 = AutoVolador('verde',20)\n",
    "c3.vuela()\n",
    "print(c3.esta_volando) # Regresa \n",
    "c3.atteriza()\n",
    "#print(c3.atteriza)\n",
    "print(c3.esta_volando)"
   ]
  },
  {
   "cell_type": "markdown",
   "metadata": {},
   "source": [
    "Una clase también puede recibir 2 o más argumentos de entrada que sean objetos de otra clase y a la vez heredar sus atributos. A este proceso se le conoce como *Herencia múltiple*."
   ]
  },
  {
   "cell_type": "code",
   "execution_count": 7,
   "metadata": {},
   "outputs": [],
   "source": [
    "class A:\n",
    "    def print_a(self):\n",
    "        print('a')\n",
    "\n",
    "class B:\n",
    "    def print_b(self):\n",
    "        print('b')\n",
    "\n",
    "class C(A,B):\n",
    "    def print_c(self):\n",
    "        print('c')"
   ]
  },
  {
   "cell_type": "code",
   "execution_count": 8,
   "metadata": {},
   "outputs": [
    {
     "name": "stdout",
     "output_type": "stream",
     "text": [
      "a\n",
      "b\n",
      "c\n"
     ]
    }
   ],
   "source": [
    "c = C() #Creando un objeto clase \"C\", la cual ha heredado los atributos de las clases \"A\" y \"B\"\n",
    "c.print_a()\n",
    "c.print_b()\n",
    "c.print_c()"
   ]
  },
  {
   "cell_type": "markdown",
   "metadata": {},
   "source": [
    "Una operación puede tomar múltiples formas, esto es, diferentes comportamientos en diferentes instancias. Dependiendo de los tipos de datos usados se presentan diferentes comportamientos. A este concepto se le conoce como *polimorfismo*."
   ]
  },
  {
   "cell_type": "code",
   "execution_count": 9,
   "metadata": {},
   "outputs": [
    {
     "name": "stdout",
     "output_type": "stream",
     "text": [
      "Ladrido\n",
      "Maullido\n",
      "Mugido\n",
      "Maullido\n",
      "Ladrido\n"
     ]
    }
   ],
   "source": [
    "class Perro:\n",
    "    def sonido(self):\n",
    "        print('Ladrido')\n",
    "\n",
    "class Gato:\n",
    "    def sonido(self):\n",
    "        print('Maullido')\n",
    "\n",
    "class Vaca:\n",
    "    def sonido(self):\n",
    "        print('Mugido')\n",
    "\n",
    "def a_cantar(animales): #Se crea la función que toma el polimorfismo\n",
    "    for animal in animales: # El objeto de entrada es una lista de los objetos de las clases anteriores\n",
    "        animal.sonido() # se toma el sonido de cada objeto \"animal\"\n",
    "if __name__=='__main__':\n",
    "    perro = Perro()\n",
    "    gato = Gato()\n",
    "    gato_2 = Gato()\n",
    "    vaca = Vaca()\n",
    "    perro_2 = Perro()\n",
    "    granja = [perro, gato, vaca,gato_2,perro_2] # Se crea lista de objetos\n",
    "    a_cantar(granja) #Función que tomó el polimorfismo"
   ]
  },
  {
   "cell_type": "markdown",
   "metadata": {},
   "source": [
    "El *encapsulamiento* se refiere a determinar si una instancia de una clase es privada, esto es, no puede manipularse al crear o instanciar un objeto. En Python es posible *encapsular* un atributo si se coloca doble guión bajo antes del nombre del atributo: __atributo."
   ]
  },
  {
   "cell_type": "code",
   "execution_count": 10,
   "metadata": {},
   "outputs": [
    {
     "name": "stdout",
     "output_type": "stream",
     "text": [
      "3\n",
      "3\n",
      "2\n",
      "2\n"
     ]
    }
   ],
   "source": [
    "class A:\n",
    "    def __init__(self):\n",
    "        self._contador = 0 #Atributo privado\n",
    "    def incrementa(self):\n",
    "        self._contador += 1\n",
    "    def cuenta(self):\n",
    "        return self._contador\n",
    "\n",
    "class B(object):\n",
    "    def __init__(self):\n",
    "        self.__contador = 0\n",
    "    def incrementa(self):\n",
    "        self.__contador +=1\n",
    "    def cuenta(self):\n",
    "        return self.__contador\n",
    "    \n",
    "a = A()\n",
    "\n",
    "a.incrementa()\n",
    "a.incrementa()\n",
    "a.incrementa()\n",
    "print(a.cuenta())\n",
    "print(a._contador)\n",
    "b = B()\n",
    "b.incrementa()\n",
    "b.incrementa()\n",
    "print(b.cuenta())\n",
    "#print(b.__contador)\n",
    "print(b._B__contador) # De esta manera se puede acceder al atributo \"privado\""
   ]
  },
  {
   "cell_type": "code",
   "execution_count": 11,
   "metadata": {},
   "outputs": [
    {
     "ename": "AttributeError",
     "evalue": "'B' object has no attribute '__contador'",
     "output_type": "error",
     "traceback": [
      "\u001b[0;31m---------------------------------------------------------------------------\u001b[0m",
      "\u001b[0;31mAttributeError\u001b[0m                            Traceback (most recent call last)",
      "\u001b[1;32m/home/roilhi/Documents/EstructurasDatosPython/Repaso_POO.ipynb Cell 16\u001b[0m in \u001b[0;36m<cell line: 1>\u001b[0;34m()\u001b[0m\n\u001b[0;32m----> <a href='vscode-notebook-cell:/home/roilhi/Documents/EstructurasDatosPython/Repaso_POO.ipynb#X25sZmlsZQ%3D%3D?line=0'>1</a>\u001b[0m \u001b[39mprint\u001b[39m(b\u001b[39m.\u001b[39;49m__contador)\n",
      "\u001b[0;31mAttributeError\u001b[0m: 'B' object has no attribute '__contador'"
     ]
    }
   ],
   "source": [
    "print(b.__contador) #No está permitido acceder al atributo, ya que es privado"
   ]
  }
 ],
 "metadata": {
  "kernelspec": {
   "display_name": "Python 3.10.4 64-bit",
   "language": "python",
   "name": "python3"
  },
  "language_info": {
   "codemirror_mode": {
    "name": "ipython",
    "version": 3
   },
   "file_extension": ".py",
   "mimetype": "text/x-python",
   "name": "python",
   "nbconvert_exporter": "python",
   "pygments_lexer": "ipython3",
   "version": "3.10.4"
  },
  "orig_nbformat": 4,
  "vscode": {
   "interpreter": {
    "hash": "916dbcbb3f70747c44a77c7bcd40155683ae19c65e1c03b4aa3499c5328201f1"
   }
  }
 },
 "nbformat": 4,
 "nbformat_minor": 2
}
