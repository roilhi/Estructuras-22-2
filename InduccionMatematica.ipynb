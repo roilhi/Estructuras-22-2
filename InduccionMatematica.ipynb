{
 "cells": [
  {
   "cell_type": "markdown",
   "metadata": {},
   "source": [
    "## Inducción Matemática \n",
    "\n",
    "*  Herramienta para verificar la validez de un algoritmo o formulación matemática\n",
    "*  **Síntesis:** Si el método funciona para una entrada tamaño $k$, deberá funcionar también para una entrada de tamaño $k+1$ "
   ]
  },
  {
   "cell_type": "markdown",
   "metadata": {},
   "source": [
    "* **Ejemplo 1:** La sumatoria de los enteros positivos consecutivos $1,2,3, \\cdots, n$ puede expresarse mediante la expresión cerrada siguiente:\n",
    "\n",
    "$\\displaystyle 1+2+3+ \\cdots + n = \\sum_{i=1}^n i = \\frac{n(n+1)}{2}$ \n",
    "* Suponemos el desarrollo de la suma de los primeros $k$ enteros (cambio de variable)\n",
    "\n",
    "$\\displaystyle P(k) \\rightarrow 1+2+3+\\cdots + k = \\sum_{i=1}^k  i = \\frac{k(k+1)}{2}$\n",
    "\n",
    "* Sustituimos $k$ por $k+1$:\n",
    "\n",
    "$P(k+1) \\rightarrow 1+2+3+\\cdots + k = \\frac{(k+1)([k+1]+1)}{2}$\n"
   ]
  },
  {
   "cell_type": "markdown",
   "metadata": {},
   "source": [
    "* Resolvemos algebraicamente el lado derecho de la expresión:\n",
    "\n",
    "$$\\frac{(k+1)([k+1]+1)}{2} = \\frac{(k+1)(k+2)}{2} = \\frac{k²+3k+2}{2}$$"
   ]
  },
  {
   "cell_type": "markdown",
   "metadata": {},
   "source": [
    "* Completamos el término $k+1$ en el biembro izquierdo de la expresión\n",
    "\n",
    "$1+2+3+\\cdots + k + (k+1) = \\frac{k(k+1)}{2}+(k+1) = \\frac{k(k+1)+2(k+1)}{2} = \\frac{k²+k+2k+2}{2} = \\frac{k²+3k+2}{2}$\n",
    "\n",
    "Dado que obtuvimos lo mismo en ambos términos, queda demostrada la validez de la expresión por inducción matemática.\n"
   ]
  },
  {
   "cell_type": "markdown",
   "metadata": {},
   "source": [
    " * **Ejemplo 2:**\n",
    "\n",
    " $ 1+3+5 + \\cdots + (2n-1) = n²$\n",
    "\n",
    " $ P(k) \\rightarrow 1+3+5 + \\cdots + (2k-1) = k²$\n",
    "\n",
    " $ P(k+1) \\rightarrow 1+3+5 + \\cdots + (2k-1) + (2[k+1]+1) = (k+1)²$\n",
    " \n",
    " $ 1+3+5 + \\cdots + (2k-1) + (2[k+1]-1) = 1+3+5 + \\cdots + (2k-1) + (2k+1)$\n",
    "\n",
    " $1+3+5 + \\cdots + (2k-1) + (2k+1) = k²+2k+1$\n",
    "\n",
    " $(k+1)²=k²+2k+1$\n",
    "\n"
   ]
  },
  {
   "cell_type": "markdown",
   "metadata": {},
   "source": [
    "*  **Ejemplo 3:**\n",
    "\n",
    "$1³+2³+\\cdots+n³= \\frac{n²(n+1)²}{4}$\n",
    "\n",
    "$P(k) \\rightarrow 1³+2³+\\cdots+k³=\\frac{k²(k+1)²}{4}$\n",
    "\n",
    "$ P(k+1) \\rightarrow 1³+2³+\\cdots+k³+(k+1)³=\\frac{(k+1)²([k+1]+1)²}{4}$\n",
    "\n",
    "$ \\frac{(k+1)²([k+1]+1)²}{4} = \\frac{(k+1)²(k+2)²}{4}=\\frac{k⁴+6k³+13k²+12k+4}{4}$\n",
    "\n",
    "$1³+2³+\\cdots+k³+(k+1)³= \\frac{k²(k+1)²}{4} + (k+1)³ = \\frac{k²(k+1)²+4(k+1)³}{4} = \\frac{k⁴+6k³+13k²+12k+4}{4}$\n"
   ]
  },
  {
   "cell_type": "markdown",
   "metadata": {},
   "source": [
    "* **Ejemplo 4:**\n",
    "\n",
    "$2+5+8 + \\cdots + (3n-1) = \\frac{n(3n+1)}{2}$\n",
    "\n",
    "$P(k) \\rightarrow 2+5+8 + \\cdots + (3k-1) = \\frac{k(3k+1)}{2} $\n",
    "\n",
    "$P(k+1) \\rightarrow 2+5+8 + \\cdots + (3k-1) + (3[k+1]-1) = \\frac{[k+1](3[k+1]+1)}{2} $\n",
    "\n",
    "$ \\frac{[k+1](3[k+1]+1)}{2} = \\frac{(k+1)(3k+4)}{2} = \\frac{3k²+7k+4}{2}$\n",
    "\n",
    "$ 2+5+8 + \\cdots + (3k+2) = \\frac{k(3k+1)}{2} + (3k+2) = \\frac{k(3k+1)+2(3k+2)}{2} = \\frac{3k²+7k+4}{2}$"
   ]
  },
  {
   "cell_type": "markdown",
   "metadata": {},
   "source": [
    "*  **Ejemplo 5:**\n",
    "$2+4+6+\\cdots+2n = n(n+1)$\n",
    "\n",
    "$P(k) \\rightarrow 2+4+6+\\cdots+2k = k(k+1) $ \n",
    "\n",
    "$P(k+1) \\rightarrow 2+4+6+\\cdots+2k+2(k+1) = (k+1)([k+1]+1)$ \n",
    "\n",
    "$ 2+4+6+ \\cdots +2k+ 2(k+1) = k(k+1) + 2k+1 = k²+k+2k+1= k²+3k+2$\n",
    "\n",
    "\n",
    "$ (k+1)([k+1]+1) = (k+1)(k+2) = k²+3k+2$\n"
   ]
  },
  {
   "cell_type": "markdown",
   "metadata": {},
   "source": []
  }
 ],
 "metadata": {
  "language_info": {
   "name": "python"
  },
  "orig_nbformat": 4
 },
 "nbformat": 4,
 "nbformat_minor": 2
}
